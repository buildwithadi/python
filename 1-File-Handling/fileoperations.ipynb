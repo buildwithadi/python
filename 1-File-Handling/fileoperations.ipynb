{
 "cells": [
  {
   "cell_type": "markdown",
   "id": "760df19d",
   "metadata": {},
   "source": [
    "### File Operation - Read and Write file"
   ]
  },
  {
   "cell_type": "code",
   "execution_count": null,
   "id": "cb1ec172",
   "metadata": {},
   "outputs": [
    {
     "name": "stdout",
     "output_type": "stream",
     "text": [
      "Hello I am\n",
      "Aditya Rawat\n",
      "and currently \n",
      "I am Learning\n",
      "DS/ML/DL/NLP\n"
     ]
    }
   ],
   "source": [
    "with open('example.txt') as file:\n",
    "    context = file.read()\n",
    "\n",
    "    print(context)"
   ]
  },
  {
   "cell_type": "code",
   "execution_count": null,
   "id": "e581b75d",
   "metadata": {},
   "outputs": [
    {
     "name": "stdout",
     "output_type": "stream",
     "text": [
      "Hello I am\n",
      "Aditya Rawat\n",
      "and currently\n",
      "I am Learning\n",
      "DS/ML/DL/NLP\n"
     ]
    }
   ],
   "source": [
    "# Reading a file:\n",
    "\n",
    "with open('example.txt','r') as file:\n",
    "    for line in file:\n",
    "        print(line.strip())"
   ]
  },
  {
   "cell_type": "code",
   "execution_count": 4,
   "id": "41fee6b8",
   "metadata": {},
   "outputs": [],
   "source": [
    "# writing a file (Overwriting):\n",
    "\n",
    "with open('example.txt', 'w') as file:\n",
    "    file.write('Hello World\\n')\n",
    "    file.write('This is a new Line\\n')"
   ]
  },
  {
   "cell_type": "code",
   "execution_count": 6,
   "id": "82489ba5",
   "metadata": {},
   "outputs": [],
   "source": [
    "# write a file (without overwriting):\n",
    "\n",
    "with open('example.txt','a') as file:\n",
    "    file.write(\"Append operation taking place\\n\")"
   ]
  },
  {
   "cell_type": "code",
   "execution_count": 7,
   "id": "17c12c05",
   "metadata": {},
   "outputs": [],
   "source": [
    "# writing a list of lines to a file\n",
    "\n",
    "lines=['first\\n', 'second\\n', 'third\\n']\n",
    "with open('example.txt', 'a') as file:\n",
    "    file.writelines(lines)"
   ]
  },
  {
   "cell_type": "code",
   "execution_count": null,
   "id": "dca02cf3",
   "metadata": {},
   "outputs": [],
   "source": [
    "# BINARY FILES\n",
    "\n",
    "# writing to a binary file\n",
    "\n",
    "with open('example.bin', 'wb') as file:\n",
    "    data = b'\\x00\\x01\\x02\\x03\\x04'\n",
    "    file.write(data)"
   ]
  },
  {
   "cell_type": "code",
   "execution_count": 10,
   "id": "886a9fbe",
   "metadata": {},
   "outputs": [
    {
     "name": "stdout",
     "output_type": "stream",
     "text": [
      "b'\\x00\\x01\\x02\\x03\\x04'\n"
     ]
    }
   ],
   "source": [
    "# reading to a binary file:\n",
    "\n",
    "with open('example.bin', 'rb') as file:\n",
    "    content = file.read()\n",
    "    print(content)"
   ]
  },
  {
   "cell_type": "code",
   "execution_count": 13,
   "id": "66689093",
   "metadata": {},
   "outputs": [
    {
     "name": "stdout",
     "output_type": "stream",
     "text": [
      "hello world\n",
      "This is a new line\n",
      "\n"
     ]
    }
   ],
   "source": [
    "# writing and then reading a file\n",
    "\n",
    "with open('example.txt','w+') as file:\n",
    "    file.write(\"hello world\\n\")\n",
    "    file.write(\"This is a new line\\n\")\n",
    "    file.seek(0)\n",
    "    content = file.read()\n",
    "    print(content)"
   ]
  }
 ],
 "metadata": {
  "kernelspec": {
   "display_name": "Python 3",
   "language": "python",
   "name": "python3"
  },
  "language_info": {
   "codemirror_mode": {
    "name": "ipython",
    "version": 3
   },
   "file_extension": ".py",
   "mimetype": "text/x-python",
   "name": "python",
   "nbconvert_exporter": "python",
   "pygments_lexer": "ipython3",
   "version": "3.12.11"
  }
 },
 "nbformat": 4,
 "nbformat_minor": 5
}
