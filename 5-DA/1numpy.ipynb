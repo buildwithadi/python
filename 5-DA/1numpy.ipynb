{
 "cells": [
  {
   "cell_type": "markdown",
   "id": "23568464",
   "metadata": {},
   "source": [
    "## Numpy"
   ]
  },
  {
   "cell_type": "code",
   "execution_count": 2,
   "id": "9871fd92",
   "metadata": {},
   "outputs": [
    {
     "name": "stdout",
     "output_type": "stream",
     "text": [
      "Requirement already satisfied: numpy in d:\\1placements\\aiml\\ds-ml-dl-nlp\\classroom\\venv\\lib\\site-packages (2.3.1)\n"
     ]
    }
   ],
   "source": [
    "!pip install numpy"
   ]
  },
  {
   "cell_type": "code",
   "execution_count": 3,
   "id": "faa1e951",
   "metadata": {},
   "outputs": [],
   "source": [
    "import numpy as np"
   ]
  },
  {
   "cell_type": "code",
   "execution_count": 4,
   "id": "bdc39b1a",
   "metadata": {},
   "outputs": [
    {
     "name": "stdout",
     "output_type": "stream",
     "text": [
      "[1 2 3 4 5]\n",
      "<class 'numpy.ndarray'>\n",
      "(5,)\n"
     ]
    }
   ],
   "source": [
    "arr1 = np.array([1,2,3,4,5])\n",
    "print(arr1)\n",
    "print(type(arr1))\n",
    "print(arr1.shape)"
   ]
  },
  {
   "cell_type": "code",
   "execution_count": 5,
   "id": "46c16579",
   "metadata": {},
   "outputs": [
    {
     "name": "stdout",
     "output_type": "stream",
     "text": [
      "[1 2 3 4 5]\n"
     ]
    }
   ],
   "source": [
    "# Reshaping\n",
    "\n",
    "arr2 = np.array([1,2,3,4,5])\n",
    "arr2.reshape(1,5)\n",
    "print(arr2)"
   ]
  },
  {
   "cell_type": "code",
   "execution_count": 6,
   "id": "18ca2851",
   "metadata": {},
   "outputs": [
    {
     "name": "stdout",
     "output_type": "stream",
     "text": [
      "[[ 1  2  3  4  5]\n",
      " [ 6  7  8  9 10]]\n",
      "(2, 5)\n"
     ]
    }
   ],
   "source": [
    "# 2d array\n",
    "arr2 = np.array([[1,2,3,4,5],[6,7,8,9,10]])\n",
    "print(arr2)\n",
    "print(arr2.shape)"
   ]
  },
  {
   "cell_type": "code",
   "execution_count": 7,
   "id": "b915c236",
   "metadata": {},
   "outputs": [
    {
     "data": {
      "text/plain": [
       "array([[0],\n",
       "       [2],\n",
       "       [4],\n",
       "       [6],\n",
       "       [8]])"
      ]
     },
     "execution_count": 7,
     "metadata": {},
     "output_type": "execute_result"
    }
   ],
   "source": [
    "#in-built array functions\n",
    "\n",
    "np.arange(0,10,2).reshape(5,1)"
   ]
  },
  {
   "cell_type": "code",
   "execution_count": 8,
   "id": "596fd446",
   "metadata": {},
   "outputs": [
    {
     "data": {
      "text/plain": [
       "array([[1., 1., 1., 1.],\n",
       "       [1., 1., 1., 1.],\n",
       "       [1., 1., 1., 1.]])"
      ]
     },
     "execution_count": 8,
     "metadata": {},
     "output_type": "execute_result"
    }
   ],
   "source": [
    "np.ones((3,4))"
   ]
  },
  {
   "cell_type": "code",
   "execution_count": 9,
   "id": "3057b2c8",
   "metadata": {},
   "outputs": [
    {
     "data": {
      "text/plain": [
       "array([[1., 0., 0.],\n",
       "       [0., 1., 0.],\n",
       "       [0., 0., 1.]])"
      ]
     },
     "execution_count": 9,
     "metadata": {},
     "output_type": "execute_result"
    }
   ],
   "source": [
    "np.eye(3)"
   ]
  },
  {
   "cell_type": "code",
   "execution_count": 14,
   "id": "dde4a535",
   "metadata": {},
   "outputs": [
    {
     "name": "stdout",
     "output_type": "stream",
     "text": [
      "Array:\n",
      " [[1 2 3]\n",
      " [4 5 6]]\n",
      "Shape: (2, 3)\n",
      "Number of dimension: 2\n",
      "size(number of elements): 6\n",
      "data type: int64\n",
      "item size: 8\n"
     ]
    }
   ],
   "source": [
    "## Attributes of Numpy Arrays\n",
    "\n",
    "arr = np.array([[1,2,3],[4,5,6]])\n",
    "\n",
    "print(\"Array:\\n\", arr)\n",
    "print(\"Shape:\",arr.shape)\n",
    "print(\"Number of dimension:\",arr.ndim)\n",
    "print(\"size(number of elements):\", arr.size)\n",
    "print(\"data type:\",arr.dtype)\n",
    "print(\"item size:\",arr.itemsize)\n"
   ]
  },
  {
   "cell_type": "code",
   "execution_count": 15,
   "id": "e4ab0b04",
   "metadata": {},
   "outputs": [
    {
     "name": "stdout",
     "output_type": "stream",
     "text": [
      "addition: [11 22 33 44 55]\n",
      "substraction: [ -9 -18 -27 -36 -45]\n",
      "multiplication: [ 10  40  90 160 250]\n",
      "division: [10. 10. 10. 10. 10.]\n"
     ]
    }
   ],
   "source": [
    "## numpy vectorized operations\n",
    "\n",
    "arr1 = np.array([1,2,3,4,5])\n",
    "arr2 = np.array([10,20,30,40,50])\n",
    "\n",
    "print('addition:',arr1 + arr2)\n",
    "print('substraction:',arr1 - arr2)\n",
    "print('multiplication:', arr1 * arr2)\n",
    "print('division:',arr2 / arr1)"
   ]
  },
  {
   "cell_type": "code",
   "execution_count": 16,
   "id": "8a048c6d",
   "metadata": {},
   "outputs": [
    {
     "name": "stdout",
     "output_type": "stream",
     "text": [
      "[1.41421356 1.73205081 2.         2.23606798 2.44948974]\n",
      "[  7.3890561   20.08553692  54.59815003 148.4131591  403.42879349]\n",
      "[ 0.90929743  0.14112001 -0.7568025  -0.95892427 -0.2794155 ]\n",
      "[0.69314718 1.09861229 1.38629436 1.60943791 1.79175947]\n"
     ]
    }
   ],
   "source": [
    "## universal function\n",
    "\n",
    "arr = np.array([2,3,4,5,6])\n",
    "\n",
    "# square root\n",
    "print(np.sqrt(arr))\n",
    "\n",
    "# exponential\n",
    "print(np.exp(arr))\n",
    "\n",
    "# sine\n",
    "print(np.sin(arr))\n",
    "\n",
    "# natural log\n",
    "print(np.log(arr))"
   ]
  },
  {
   "cell_type": "code",
   "execution_count": 17,
   "id": "628e7490",
   "metadata": {},
   "outputs": [
    {
     "name": "stdout",
     "output_type": "stream",
     "text": [
      "array:\n",
      " [[ 1  2  3  4]\n",
      " [ 5  6  7  8]\n",
      " [ 9 10 11 12]]\n"
     ]
    }
   ],
   "source": [
    "## array slicing and indexing\n",
    "\n",
    "arr = np.array([[1,2,3,4],[5,6,7,8],[9,10,11,12]])\n",
    "print('array:\\n',arr)"
   ]
  },
  {
   "cell_type": "code",
   "execution_count": 18,
   "id": "23cd728f",
   "metadata": {},
   "outputs": [
    {
     "name": "stdout",
     "output_type": "stream",
     "text": [
      "[[ 6  7]\n",
      " [10 11]]\n"
     ]
    }
   ],
   "source": [
    "print(arr[1:,1:3])"
   ]
  },
  {
   "cell_type": "code",
   "execution_count": 19,
   "id": "7849cf9a",
   "metadata": {},
   "outputs": [
    {
     "name": "stdout",
     "output_type": "stream",
     "text": [
      "1\n",
      "[[3 4]\n",
      " [7 8]]\n"
     ]
    }
   ],
   "source": [
    "print(arr[0][0])\n",
    "print(arr[0:2,2:])"
   ]
  },
  {
   "cell_type": "code",
   "execution_count": 20,
   "id": "a0071f8f",
   "metadata": {},
   "outputs": [
    {
     "data": {
      "text/plain": [
       "array([[ 7,  8],\n",
       "       [11, 12]])"
      ]
     },
     "execution_count": 20,
     "metadata": {},
     "output_type": "execute_result"
    }
   ],
   "source": [
    "arr[1:,2:]"
   ]
  },
  {
   "cell_type": "code",
   "execution_count": 21,
   "id": "316ff0ff",
   "metadata": {},
   "outputs": [
    {
     "name": "stdout",
     "output_type": "stream",
     "text": [
      "[[100   2   3   4]\n",
      " [  5   6   7   8]\n",
      " [  9  10  11  12]]\n"
     ]
    }
   ],
   "source": [
    "## Modify array elements\n",
    "arr[0,0] = 100\n",
    "print(arr)"
   ]
  },
  {
   "cell_type": "code",
   "execution_count": 22,
   "id": "86bbc24f",
   "metadata": {},
   "outputs": [
    {
     "name": "stdout",
     "output_type": "stream",
     "text": [
      "[[100   2   3   4]\n",
      " [100 100 100 100]\n",
      " [100 100 100 100]]\n"
     ]
    }
   ],
   "source": [
    "arr[1:] = 100\n",
    "print(arr)"
   ]
  },
  {
   "cell_type": "code",
   "execution_count": 24,
   "id": "7ce86fd8",
   "metadata": {},
   "outputs": [
    {
     "name": "stdout",
     "output_type": "stream",
     "text": [
      "Normalized Data: [-1.41421356 -0.70710678  0.          0.70710678  1.41421356]\n"
     ]
    }
   ],
   "source": [
    "## statistical concepts -- Morrmalization\n",
    "## to have a mean of 0 and standard deviation of 1\n",
    "\n",
    "data = np.array([1,2,3,4,5])\n",
    "\n",
    "mean = np.mean(data)\n",
    "std_dev = np.std(data)\n",
    "\n",
    "normalized_data = (data - mean) / std_dev\n",
    "print('Normalized Data:',normalized_data)"
   ]
  },
  {
   "cell_type": "code",
   "execution_count": 29,
   "id": "ef25d61f",
   "metadata": {},
   "outputs": [
    {
     "name": "stdout",
     "output_type": "stream",
     "text": [
      "mean: 4.0\n",
      "median: 4.0\n",
      "standard deviation: 1.4142135623730951\n",
      "variance: 2.0\n"
     ]
    }
   ],
   "source": [
    "data = np.array([2,3,4,5,6])\n",
    "\n",
    "mean = np.mean(data)\n",
    "print('mean:',mean)\n",
    "\n",
    "median = np.median(data)\n",
    "print('median:',median)\n",
    "\n",
    "std_dev = np.std(data)\n",
    "print('standard deviation:',std_dev)\n",
    "\n",
    "variance = np.var(data)\n",
    "print('variance:',variance)"
   ]
  },
  {
   "cell_type": "code",
   "execution_count": 28,
   "id": "5267a2e5",
   "metadata": {},
   "outputs": [
    {
     "data": {
      "text/plain": [
       "array([5, 6, 7, 8])"
      ]
     },
     "execution_count": 28,
     "metadata": {},
     "output_type": "execute_result"
    }
   ],
   "source": [
    "## logical operations\n",
    "data = np.array([1,2,3,4,5,6,7,8,9,10])\n",
    "data[(data >= 5) & (data <=8)]"
   ]
  }
 ],
 "metadata": {
  "kernelspec": {
   "display_name": "Python 3",
   "language": "python",
   "name": "python3"
  },
  "language_info": {
   "codemirror_mode": {
    "name": "ipython",
    "version": 3
   },
   "file_extension": ".py",
   "mimetype": "text/x-python",
   "name": "python",
   "nbconvert_exporter": "python",
   "pygments_lexer": "ipython3",
   "version": "3.12.11"
  }
 },
 "nbformat": 4,
 "nbformat_minor": 5
}
