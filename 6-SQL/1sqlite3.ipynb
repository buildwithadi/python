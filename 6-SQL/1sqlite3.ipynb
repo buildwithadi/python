{
 "cells": [
  {
   "cell_type": "markdown",
   "id": "cc8e6157",
   "metadata": {},
   "source": [
    "#### SQL and SQLite3"
   ]
  },
  {
   "cell_type": "markdown",
   "id": "95df31bb",
   "metadata": {},
   "source": [
    "SQL (Structured Query Language) is a standard language for managing and manipulating relational databases. SQLite is a self-contained, serverless, and zero-configuration database engine that is widely used for embedded database systems. In this lesson, we will cover the basics of SQL and SQLite, including creating databases, tables, and performing various SQL operations."
   ]
  },
  {
   "cell_type": "code",
   "execution_count": 1,
   "id": "a84fc746",
   "metadata": {},
   "outputs": [],
   "source": [
    "import sqlite3"
   ]
  },
  {
   "cell_type": "code",
   "execution_count": 2,
   "id": "dd6cba8d",
   "metadata": {},
   "outputs": [
    {
     "data": {
      "text/plain": [
       "<sqlite3.Connection at 0x171edcfab60>"
      ]
     },
     "execution_count": 2,
     "metadata": {},
     "output_type": "execute_result"
    }
   ],
   "source": [
    "## Connect to an SQLite database\n",
    "connection = sqlite3.connect('example.db')\n",
    "connection"
   ]
  },
  {
   "cell_type": "code",
   "execution_count": 3,
   "id": "b9b9bbd1",
   "metadata": {},
   "outputs": [],
   "source": [
    "cursor = connection.cursor()"
   ]
  },
  {
   "cell_type": "code",
   "execution_count": 5,
   "id": "f1f4e5ad",
   "metadata": {},
   "outputs": [],
   "source": [
    "## Create a Table\n",
    "cursor.execute('''\n",
    "create table if not exists employees(\n",
    "    id integer primary key,\n",
    "    name text not null,\n",
    "    age integer,\n",
    "    department text\n",
    ")\n",
    "''')\n",
    "\n",
    "## Commit the changes\n",
    "connection.commit()"
   ]
  },
  {
   "cell_type": "code",
   "execution_count": 7,
   "id": "cc5ff2c3",
   "metadata": {},
   "outputs": [
    {
     "data": {
      "text/plain": [
       "<sqlite3.Cursor at 0x171edf05440>"
      ]
     },
     "execution_count": 7,
     "metadata": {},
     "output_type": "execute_result"
    }
   ],
   "source": [
    "cursor.execute('''\n",
    "select * from employees\n",
    "''')"
   ]
  },
  {
   "cell_type": "code",
   "execution_count": 8,
   "id": "7c4b7687",
   "metadata": {},
   "outputs": [],
   "source": [
    "## Insert the data into the table\n",
    "\n",
    "cursor.execute('''\n",
    "Insert into employees(name, age, department)\n",
    "                values('Aditya',20,'Data Scientist')\n",
    "''')\n",
    "\n",
    "\n",
    "cursor.execute('''\n",
    "Insert into employees(name, age, department)\n",
    "                values('Saurabh',25,'Data Analyst')\n",
    "''')\n",
    "\n",
    "cursor.execute('''\n",
    "Insert into employees(name, age, department)\n",
    "                values('Sam',30,'AI engineer')\n",
    "''')\n",
    "\n",
    "# Commit the changes\n",
    "connection.commit()"
   ]
  },
  {
   "cell_type": "code",
   "execution_count": 9,
   "id": "e8e9c631",
   "metadata": {},
   "outputs": [
    {
     "name": "stdout",
     "output_type": "stream",
     "text": [
      "(1, 'Aditya', 20, 'Data Scientist')\n",
      "(2, 'Saurabh', 25, 'Data Analyst')\n",
      "(3, 'Sam', 30, 'AI engineer')\n"
     ]
    }
   ],
   "source": [
    "## Query the data from the table\n",
    "cursor.execute('select * from employees')\n",
    "rows = cursor.fetchall()\n",
    "\n",
    "## Printing the queried data\n",
    "for row in rows:\n",
    "    print(row)"
   ]
  },
  {
   "cell_type": "code",
   "execution_count": 10,
   "id": "357eea71",
   "metadata": {},
   "outputs": [],
   "source": [
    "## Update data from the table\n",
    "cursor.execute('''\n",
    "update employees\n",
    "set name = 'Mohan'\n",
    "where id = 3\n",
    "''')\n",
    "\n",
    "connection.commit()"
   ]
  },
  {
   "cell_type": "code",
   "execution_count": 13,
   "id": "02c2f072",
   "metadata": {},
   "outputs": [
    {
     "name": "stdout",
     "output_type": "stream",
     "text": [
      "(1, 'Aditya', 20, 'Data Scientist')\n",
      "(2, 'Saurabh', 25, 'Data Analyst')\n",
      "(3, 'Mohan', 30, 'AI engineer')\n"
     ]
    }
   ],
   "source": [
    "cursor.execute('select * from employees')\n",
    "rows = cursor.fetchall()\n",
    "\n",
    "for row in rows:\n",
    "    print(row)"
   ]
  },
  {
   "cell_type": "code",
   "execution_count": 14,
   "id": "eab6875b",
   "metadata": {},
   "outputs": [],
   "source": [
    "## Delete the data from the table\n",
    "cursor.execute('''\n",
    "Delete from employees \n",
    "where age > 25\n",
    "''')\n",
    "\n",
    "connection.commit()"
   ]
  },
  {
   "cell_type": "code",
   "execution_count": 15,
   "id": "5f294904",
   "metadata": {},
   "outputs": [
    {
     "name": "stdout",
     "output_type": "stream",
     "text": [
      "(1, 'Aditya', 20, 'Data Scientist')\n",
      "(2, 'Saurabh', 25, 'Data Analyst')\n"
     ]
    }
   ],
   "source": [
    "cursor.execute('select * from employees')\n",
    "rows = cursor.fetchall()\n",
    "\n",
    "for row in rows:\n",
    "    print(row)"
   ]
  },
  {
   "cell_type": "code",
   "execution_count": null,
   "id": "87052862",
   "metadata": {},
   "outputs": [],
   "source": []
  }
 ],
 "metadata": {
  "kernelspec": {
   "display_name": "Python 3",
   "language": "python",
   "name": "python3"
  },
  "language_info": {
   "codemirror_mode": {
    "name": "ipython",
    "version": 3
   },
   "file_extension": ".py",
   "mimetype": "text/x-python",
   "name": "python",
   "nbconvert_exporter": "python",
   "pygments_lexer": "ipython3",
   "version": "3.12.11"
  }
 },
 "nbformat": 4,
 "nbformat_minor": 5
}
