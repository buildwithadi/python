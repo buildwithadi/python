{
 "cells": [
  {
   "cell_type": "code",
   "execution_count": null,
   "id": "a140120a",
   "metadata": {},
   "outputs": [
    {
     "name": "stdout",
     "output_type": "stream",
     "text": [
      "Tesla supports True\n",
      "The Person will drire the electric car\n"
     ]
    }
   ],
   "source": [
    "## Single Level Inheritance:\n",
    "\n",
    "class Car:\n",
    "    def __init__(self, windows, doors, engineType):\n",
    "        self.windows = windows\n",
    "        self.doors = doors\n",
    "        self.engineType = engineType\n",
    "    \n",
    "    def drive(self):\n",
    "        print(f\"The Person will drire the {self.engineType} car\")\n",
    "\n",
    "class Tesla(Car):\n",
    "    def __init__(self, windows, doors, engineType, is_selfdriving):\n",
    "        super().__init__(windows, doors, engineType)\n",
    "        self.is_selfdriving = is_selfdriving\n",
    "    \n",
    "    def selfdriving(self):\n",
    "        print(f\"Tesla supports {self.is_selfdriving}\")\n",
    "\n",
    "X = Tesla(4,4,\"electric\",True)\n",
    "X.selfdriving()\n",
    "X.drive()"
   ]
  },
  {
   "cell_type": "code",
   "execution_count": 6,
   "id": "b90e8d7c",
   "metadata": {},
   "outputs": [],
   "source": [
    "## Multiple Inheritance:\n",
    "\n",
    "class Animal:\n",
    "    def __init__(self, name):\n",
    "        self.name = name\n",
    "    def speak(self):\n",
    "        print(\"Sub class must implement this method\")\n",
    "    \n",
    "class Pet:\n",
    "    def __init__(self,owner):\n",
    "        self.owner = owner\n",
    "\n",
    "class Dog(Animal, Pet):\n",
    "    def __init__(self, name, owner):\n",
    "        Animal.__init__(self, name)\n",
    "        Pet.__init__(self, owner)\n",
    "    \n",
    "    def speak(self):\n",
    "        print(f\"{self.name} say woof!\")"
   ]
  },
  {
   "cell_type": "code",
   "execution_count": 7,
   "id": "25630a51",
   "metadata": {},
   "outputs": [
    {
     "name": "stdout",
     "output_type": "stream",
     "text": [
      "Bruno say woof!\n",
      "Aditya\n"
     ]
    }
   ],
   "source": [
    "dog = Dog(\"Bruno\", \"Aditya\")\n",
    "dog.speak()\n",
    "print(dog.owner)"
   ]
  },
  {
   "cell_type": "code",
   "execution_count": null,
   "id": "08895c3a",
   "metadata": {},
   "outputs": [],
   "source": []
  }
 ],
 "metadata": {
  "kernelspec": {
   "display_name": "Python 3",
   "language": "python",
   "name": "python3"
  },
  "language_info": {
   "codemirror_mode": {
    "name": "ipython",
    "version": 3
   },
   "file_extension": ".py",
   "mimetype": "text/x-python",
   "name": "python",
   "nbconvert_exporter": "python",
   "pygments_lexer": "ipython3",
   "version": "3.12.11"
  }
 },
 "nbformat": 4,
 "nbformat_minor": 5
}
