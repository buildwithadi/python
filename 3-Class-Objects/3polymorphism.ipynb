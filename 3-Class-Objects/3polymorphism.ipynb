{
 "cells": [
  {
   "cell_type": "markdown",
   "id": "a3c2e314",
   "metadata": {},
   "source": [
    "## Polymorphism"
   ]
  },
  {
   "cell_type": "markdown",
   "id": "8a8020e1",
   "metadata": {},
   "source": [
    "### Method Overriding"
   ]
  },
  {
   "cell_type": "code",
   "execution_count": 2,
   "id": "d1fd21d1",
   "metadata": {},
   "outputs": [
    {
     "name": "stdout",
     "output_type": "stream",
     "text": [
      "woof!\n",
      "meow!\n"
     ]
    }
   ],
   "source": [
    "class Animal:\n",
    "    def speaks(self):\n",
    "        return \"Sound of the Animal\"\n",
    "\n",
    "class Dog(Animal):\n",
    "    def speaks(self):\n",
    "        return \"woof!\"\n",
    "\n",
    "class Cat(Animal):\n",
    "    def speaks(self):\n",
    "        return \"meow!\"\n",
    "\n",
    "dog = Dog()\n",
    "cat = Cat()\n",
    "\n",
    "print(dog.speaks())\n",
    "print(cat.speaks())"
   ]
  },
  {
   "cell_type": "markdown",
   "id": "0785d73f",
   "metadata": {},
   "source": [
    "### Polymorphism with Functions and Methods"
   ]
  },
  {
   "cell_type": "code",
   "execution_count": 9,
   "id": "8a855b43",
   "metadata": {},
   "outputs": [
    {
     "name": "stdout",
     "output_type": "stream",
     "text": [
      "153.86\n",
      "20\n"
     ]
    }
   ],
   "source": [
    "class Shape:\n",
    "    def area(self):\n",
    "        return \"The area of Figure\"\n",
    "\n",
    "class Rectangle(Shape):\n",
    "    def __init__(self, width, height):\n",
    "        self.width = width\n",
    "        self.height = height\n",
    "\n",
    "    def area(self):\n",
    "        return self.width * self.height\n",
    "\n",
    "class Circle(Shape):\n",
    "    def __init__(self, radius):\n",
    "        self.radius = radius\n",
    "\n",
    "    def area(self):\n",
    "        return 3.14*self.radius*self.radius\n",
    "    \n",
    "rectangle = Rectangle(10,2)\n",
    "circle = Circle(7)\n",
    "\n",
    "def print_area(shape):\n",
    "    return shape.area()\n",
    "\n",
    "print(print_area(circle))\n",
    "print(print_area(rectangle))"
   ]
  },
  {
   "cell_type": "markdown",
   "id": "c23406a2",
   "metadata": {},
   "source": [
    "### Interfaces (Abstract Base Class)"
   ]
  },
  {
   "cell_type": "code",
   "execution_count": 10,
   "id": "a1a90ed3",
   "metadata": {},
   "outputs": [
    {
     "name": "stdout",
     "output_type": "stream",
     "text": [
      "Car Engine Started\n",
      "Motorcycle Engine Started\n"
     ]
    }
   ],
   "source": [
    "from abc import ABC, abstractmethod\n",
    "\n",
    "class Vehicle(ABC):\n",
    "    @abstractmethod\n",
    "    def start_engine(self):\n",
    "        pass\n",
    "    \n",
    "class Car(Vehicle):\n",
    "    def start_engine(self):\n",
    "        return \"Car Engine Started\"\n",
    "\n",
    "class Motorcycle(Vehicle):\n",
    "    def start_engine(self):\n",
    "        return \"Motorcycle Engine Started\"\n",
    "    \n",
    "def start_vehicle(vehicle):\n",
    "    print(vehicle.start_engine())\n",
    "\n",
    "car = Car()\n",
    "motorcycle = Motorcycle()\n",
    "\n",
    "start_vehicle(car)\n",
    "start_vehicle(motorcycle)\n"
   ]
  },
  {
   "cell_type": "code",
   "execution_count": null,
   "id": "48932050",
   "metadata": {},
   "outputs": [],
   "source": []
  }
 ],
 "metadata": {
  "kernelspec": {
   "display_name": "Python 3",
   "language": "python",
   "name": "python3"
  },
  "language_info": {
   "codemirror_mode": {
    "name": "ipython",
    "version": 3
   },
   "file_extension": ".py",
   "mimetype": "text/x-python",
   "name": "python",
   "nbconvert_exporter": "python",
   "pygments_lexer": "ipython3",
   "version": "3.12.11"
  }
 },
 "nbformat": 4,
 "nbformat_minor": 5
}
