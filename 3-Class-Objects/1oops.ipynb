{
 "cells": [
  {
   "cell_type": "markdown",
   "id": "75d41f9d",
   "metadata": {},
   "source": [
    "### Modeling a Bank Account"
   ]
  },
  {
   "cell_type": "code",
   "execution_count": 5,
   "id": "92ffdfa0",
   "metadata": {},
   "outputs": [],
   "source": [
    "class BankAccount:\n",
    "    def __init__(self, name, balance=0):\n",
    "        self.name = name\n",
    "        self.balance = balance\n",
    "    \n",
    "    def deposit(self, amount):\n",
    "        self.balance += amount\n",
    "        print(f\"{amount} is Deposited.\\nNew Balance: {self.balance}\")\n",
    "    \n",
    "    def withdraw(self, amount):\n",
    "        if amount > self.balance:\n",
    "            print(\"Insufficient Funds\")\n",
    "        else:\n",
    "            self.balance -= amount\n",
    "            print(f\"{amount} is withdrawn\\nNew Balance: {self.balance}\")\n",
    "\n",
    "    def get_balance(self):\n",
    "        print(f\"Balance: {self.balance}\")"
   ]
  },
  {
   "cell_type": "code",
   "execution_count": 6,
   "id": "f55dba9b",
   "metadata": {},
   "outputs": [
    {
     "name": "stdout",
     "output_type": "stream",
     "text": [
      "Balance: 5000\n",
      "5000 is Deposited.\n",
      "New Balance: 10000\n",
      "500 is withdrawn\n",
      "New Balance: 9500\n",
      "Balance: 9500\n"
     ]
    }
   ],
   "source": [
    "acc1 = BankAccount(\"Aditya\", 5000)\n",
    "acc1.get_balance()\n",
    "acc1.deposit(5000)\n",
    "acc1.withdraw(500)\n",
    "acc1.get_balance()"
   ]
  },
  {
   "cell_type": "code",
   "execution_count": null,
   "id": "3f03b8a7",
   "metadata": {},
   "outputs": [],
   "source": []
  }
 ],
 "metadata": {
  "kernelspec": {
   "display_name": "Python 3",
   "language": "python",
   "name": "python3"
  },
  "language_info": {
   "codemirror_mode": {
    "name": "ipython",
    "version": 3
   },
   "file_extension": ".py",
   "mimetype": "text/x-python",
   "name": "python",
   "nbconvert_exporter": "python",
   "pygments_lexer": "ipython3",
   "version": "3.12.11"
  }
 },
 "nbformat": 4,
 "nbformat_minor": 5
}
