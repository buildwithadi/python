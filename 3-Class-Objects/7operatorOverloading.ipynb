{
 "cells": [
  {
   "cell_type": "markdown",
   "id": "869d6085",
   "metadata": {},
   "source": [
    "## Operator Overloading"
   ]
  },
  {
   "cell_type": "code",
   "execution_count": 2,
   "id": "162e5527",
   "metadata": {},
   "outputs": [
    {
     "name": "stdout",
     "output_type": "stream",
     "text": [
      "x: 5 y:10\n",
      "x: -1 y:-2\n",
      "x: 6 y:24\n",
      "x: 0.6666666666666666 y:0.6666666666666666\n",
      "False\n"
     ]
    }
   ],
   "source": [
    "class Vector:\n",
    "    def __init__(self, x, y):\n",
    "        self.x = x\n",
    "        self.y = y\n",
    "    \n",
    "    def __add__(self, other):\n",
    "        return Vector(self.x + other.x, self.y + other.y)\n",
    "    def __sub__(self, other):\n",
    "        return Vector(self.x - other.x, self.y - other.y)\n",
    "    def __mul__(self, other):\n",
    "        return Vector(self.x * other.x, self.y * other.y)\n",
    "    def __truediv__(self, other):\n",
    "        return Vector(self.x / other.x, self.y / other.y)\n",
    "    def __eq__(self, other):\n",
    "        return self.x == other.x and self.y == other.y\n",
    "    def __str__(self):\n",
    "        return f\"x: {self.x} y:{self.y}\"\n",
    "\n",
    "v1 = Vector(2,4)\n",
    "v2 = Vector(3,6)\n",
    "\n",
    "print(v1 + v2)\n",
    "print(v1 - v2)\n",
    "print(v1 * v2)\n",
    "print(v1 / v2)\n",
    "print(v1 == v2)"
   ]
  }
 ],
 "metadata": {
  "kernelspec": {
   "display_name": "Python 3",
   "language": "python",
   "name": "python3"
  },
  "language_info": {
   "codemirror_mode": {
    "name": "ipython",
    "version": 3
   },
   "file_extension": ".py",
   "mimetype": "text/x-python",
   "name": "python",
   "nbconvert_exporter": "python",
   "pygments_lexer": "ipython3",
   "version": "3.12.11"
  }
 },
 "nbformat": 4,
 "nbformat_minor": 5
}
