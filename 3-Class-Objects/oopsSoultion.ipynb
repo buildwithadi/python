{
 "cells": [
  {
   "cell_type": "markdown",
   "id": "9d2213ae",
   "metadata": {},
   "source": [
    "### Assignment 1: Polymorphism with Methods\n",
    "\n",
    "Create a base class named `Shape` with a method `area`. Create two derived classes `Circle` and `Square` that override the `area` method. Create a list of `Shape` objects and call the `area` method on each object to demonstrate polymorphism."
   ]
  },
  {
   "cell_type": "code",
   "execution_count": 2,
   "id": "3935c9ae",
   "metadata": {},
   "outputs": [
    {
     "name": "stdout",
     "output_type": "stream",
     "text": [
      "100\n",
      "153.86\n"
     ]
    }
   ],
   "source": [
    "class Shape:\n",
    "    def area():\n",
    "        return \"This method is overriden\"\n",
    "\n",
    "class Circle(Shape):\n",
    "    def __init__(self, radius):\n",
    "        self.radius = radius\n",
    "\n",
    "    def area(self):\n",
    "        return 3.14*self.radius*self.radius\n",
    "\n",
    "class Square(Shape):\n",
    "    def __init__(self, l):\n",
    "        self.l = l\n",
    "\n",
    "    def area(self):\n",
    "        return self.l * self.l\n",
    "\n",
    "box = Square(10)\n",
    "ball = Circle(7)\n",
    "\n",
    "lst = [box, balloon]\n",
    "\n",
    "for i in lst:\n",
    "    print(i.area())"
   ]
  },
  {
   "cell_type": "markdown",
   "id": "3a374d1c",
   "metadata": {},
   "source": [
    "### Assignment 2: Polymorphism with Function Arguments\n",
    "\n",
    "Create a function named `describe_shape` that takes a `Shape` object as an argument and calls its `area` method. Create objects of `Circle` and `Square` classes and pass them to the `describe_shape` function."
   ]
  },
  {
   "cell_type": "code",
   "execution_count": 4,
   "id": "00f859a5",
   "metadata": {},
   "outputs": [
    {
     "name": "stdout",
     "output_type": "stream",
     "text": [
      "153.86\n",
      "100\n"
     ]
    }
   ],
   "source": [
    "def describe_shape(shape):\n",
    "    return shape.area()\n",
    "\n",
    "print(describe_shape(ball))\n",
    "print(describe_shape(box))"
   ]
  },
  {
   "cell_type": "markdown",
   "id": "a14c6b17",
   "metadata": {},
   "source": [
    "### Assignment 3: Abstract Base Class with Abstract Methods\n",
    "\n",
    "Create an abstract base class named `Vehicle` with an abstract method `start_engine`. Create derived classes `Car` and `Bike` that implement the `start_engine` method. Create objects of the derived classes and call the `start_engine` method."
   ]
  },
  {
   "cell_type": "code",
   "execution_count": 7,
   "id": "40b020f1",
   "metadata": {},
   "outputs": [
    {
     "name": "stdout",
     "output_type": "stream",
     "text": [
      "Car Started\n",
      "Bike Started\n"
     ]
    }
   ],
   "source": [
    "from abc import ABC, abstractmethod\n",
    "\n",
    "class Vehicle(ABC):\n",
    "    @abstractmethod\n",
    "    def start_engine(self):\n",
    "        pass\n",
    "\n",
    "class Car(Vehicle):\n",
    "    def start_engine(self):\n",
    "        return \"Car Started\"\n",
    "    \n",
    "class Bike(Vehicle):\n",
    "    def start_engine(self):\n",
    "        return \"Bike Started\"\n",
    "    \n",
    "car = Car()\n",
    "bike = Bike()\n",
    "\n",
    "print(car.start_engine())\n",
    "print(bike.start_engine())"
   ]
  },
  {
   "cell_type": "markdown",
   "id": "870b9837",
   "metadata": {},
   "source": [
    "### Assignment 4: Abstract Base Class with Concrete Methods\n",
    "\n",
    "In the `Vehicle` class, add a concrete method `fuel_type` that returns a generic fuel type. Override this method in `Car` and `Bike` classes to return specific fuel types. Create objects of the derived classes and call the `fuel_type` method."
   ]
  },
  {
   "cell_type": "code",
   "execution_count": 9,
   "id": "9ac22653",
   "metadata": {},
   "outputs": [
    {
     "name": "stdout",
     "output_type": "stream",
     "text": [
      "Desiel\n",
      "Electric\n"
     ]
    }
   ],
   "source": [
    "class Vehicle():\n",
    "    def fuel_type(self):\n",
    "        return \"Petrol\"\n",
    "\n",
    "class Car(Vehicle):\n",
    "    def fuel_type(self):\n",
    "        return \"Desiel\"\n",
    "\n",
    "class Bike(Vehicle):\n",
    "    def fuel_type(self):\n",
    "        return \"Electric\"\n",
    "    \n",
    "brezza = Car()\n",
    "ignitor = Bike()\n",
    "\n",
    "print(brezza.fuel_type())\n",
    "print(ignitor.fuel_type())"
   ]
  },
  {
   "cell_type": "markdown",
   "id": "ba640d67",
   "metadata": {},
   "source": [
    "### Assignment 5: Encapsulation with Private Attributes\n",
    "\n",
    "Create a class named `BankAccount` with private attributes `account_number` and `balance`. Add methods to deposit and withdraw money, and to check the balance. Ensure that the balance cannot be accessed directly."
   ]
  },
  {
   "cell_type": "code",
   "execution_count": 12,
   "id": "bfcf53de",
   "metadata": {},
   "outputs": [
    {
     "name": "stdout",
     "output_type": "stream",
     "text": [
      "Amound Deposited\n",
      "Current Balance: 5500\n",
      "Amound Withdrawn\n",
      "Current Balance: 3500\n",
      "Current Balance: 3500\n"
     ]
    }
   ],
   "source": [
    "class BankAccount:\n",
    "    def __init__(self, account_number, balance):\n",
    "        self.__account_number = account_number\n",
    "        self.__balance = balance\n",
    "    \n",
    "    def deposit(self, amount):\n",
    "        self.__balance += amount\n",
    "        return f\"Amound Deposited\\n{self.balance()}\"\n",
    "    \n",
    "    def withdraw(self, amount):\n",
    "        self.__balance -= amount\n",
    "        return f\"Amound Withdrawn\\n{self.balance()}\"\n",
    "\n",
    "    def balance(self):\n",
    "        return f\"Current Balance: {self.__balance}\"\n",
    "\n",
    "acc1 = BankAccount(12345, 5000)\n",
    "print(acc1.deposit(500))\n",
    "print(acc1.withdraw(2000))\n",
    "print(acc1.balance()) "
   ]
  },
  {
   "cell_type": "markdown",
   "id": "e80c9ef9",
   "metadata": {},
   "source": [
    "### Assignment 6: Encapsulation with Property Decorators\n",
    "\n",
    "In the `BankAccount` class, use property decorators to get and set the `balance` attribute. Ensure that the balance cannot be set to a negative value."
   ]
  },
  {
   "cell_type": "markdown",
   "id": "1d0013d7",
   "metadata": {},
   "source": []
  }
 ],
 "metadata": {
  "kernelspec": {
   "display_name": "Python 3",
   "language": "python",
   "name": "python3"
  },
  "language_info": {
   "codemirror_mode": {
    "name": "ipython",
    "version": 3
   },
   "file_extension": ".py",
   "mimetype": "text/x-python",
   "name": "python",
   "nbconvert_exporter": "python",
   "pygments_lexer": "ipython3",
   "version": "3.12.11"
  }
 },
 "nbformat": 4,
 "nbformat_minor": 5
}
