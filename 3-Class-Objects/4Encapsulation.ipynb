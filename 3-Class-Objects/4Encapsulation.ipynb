{
 "cells": [
  {
   "cell_type": "markdown",
   "id": "655f4d18",
   "metadata": {},
   "source": [
    "## Encapsulation\n"
   ]
  },
  {
   "cell_type": "code",
   "execution_count": null,
   "id": "c449e1a5",
   "metadata": {},
   "outputs": [
    {
     "name": "stdout",
     "output_type": "stream",
     "text": [
      "Aditya\n"
     ]
    }
   ],
   "source": [
    "# Public:\n",
    "\n",
    "class Person:\n",
    "    def __init__(self, name, age):\n",
    "        self.name = name # Public Variable\n",
    "        self.age = age   # Public Variable\n",
    "\n",
    "def get_name(person):\n",
    "    return person.name\n",
    "\n",
    "adi = Person(\"Aditya\", 20)\n",
    "print(get_name(adi))"
   ]
  },
  {
   "cell_type": "code",
   "execution_count": null,
   "id": "8c588cda",
   "metadata": {},
   "outputs": [
    {
     "name": "stdout",
     "output_type": "stream",
     "text": [
      "20\n"
     ]
    }
   ],
   "source": [
    "# Private\n",
    "\n",
    "class Person:\n",
    "    def __init__(self, name, age):\n",
    "        self.__name = name  # Private Variable\n",
    "        self.age = age      # Public Variable\n",
    "    \n",
    "adi = Person(\"Aditya\", 20)\n",
    "# print(adi._Person__name) -> This will print the name attribute\n",
    "# print(adi.name) -> This will give Error\n",
    "print(adi.age)"
   ]
  },
  {
   "cell_type": "code",
   "execution_count": 8,
   "id": "248ad5aa",
   "metadata": {},
   "outputs": [
    {
     "name": "stdout",
     "output_type": "stream",
     "text": [
      "Aditya\n"
     ]
    }
   ],
   "source": [
    "# Protected\n",
    "\n",
    "class Person:\n",
    "    def __init__(self, name, age):\n",
    "        self._name = name\n",
    "        self.age = age\n",
    "    \n",
    "class Employee(Person):\n",
    "    def __init__(self, name, age):\n",
    "        super().__init__(name, age)\n",
    "    \n",
    "emp1 = Employee(\"Aditya\", 20)\n",
    "print(emp1._name)"
   ]
  },
  {
   "cell_type": "code",
   "execution_count": 13,
   "id": "581087d2",
   "metadata": {},
   "outputs": [
    {
     "name": "stdout",
     "output_type": "stream",
     "text": [
      "Aditya\n",
      "Rohan\n"
     ]
    }
   ],
   "source": [
    "# Encapsulation with Getter and Setter:\n",
    "\n",
    "class Person:\n",
    "    def __init__(self, name, age):\n",
    "        self.__name = name\n",
    "        self.__age = age\n",
    "    \n",
    "    def get_name(self):\n",
    "        return self.__name\n",
    "    \n",
    "    def set_name(self, name):\n",
    "        self.__name = name\n",
    "\n",
    "person = Person(\"Aditya\", 30)\n",
    "print(person.get_name())\n",
    "person.set_name(\"Rohan\")\n",
    "print(person.get_name())"
   ]
  }
 ],
 "metadata": {
  "kernelspec": {
   "display_name": "Python 3",
   "language": "python",
   "name": "python3"
  },
  "language_info": {
   "codemirror_mode": {
    "name": "ipython",
    "version": 3
   },
   "file_extension": ".py",
   "mimetype": "text/x-python",
   "name": "python",
   "nbconvert_exporter": "python",
   "pygments_lexer": "ipython3",
   "version": "3.12.11"
  }
 },
 "nbformat": 4,
 "nbformat_minor": 5
}
