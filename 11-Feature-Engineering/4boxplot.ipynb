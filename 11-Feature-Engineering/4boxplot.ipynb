{
 "cells": [
  {
   "cell_type": "markdown",
   "id": "70767ede",
   "metadata": {},
   "source": [
    "## 5 numbers Summary and Box Plot"
   ]
  },
  {
   "cell_type": "code",
   "execution_count": 1,
   "id": "761b6073",
   "metadata": {},
   "outputs": [],
   "source": [
    "## Minimum, Maximum, Median, Q1, Q3, IQR"
   ]
  },
  {
   "cell_type": "code",
   "execution_count": 2,
   "id": "fb17893b",
   "metadata": {},
   "outputs": [],
   "source": [
    "import numpy as np"
   ]
  },
  {
   "cell_type": "code",
   "execution_count": null,
   "id": "e7bd4caf",
   "metadata": {},
   "outputs": [],
   "source": [
    "lst_marks = []"
   ]
  }
 ],
 "metadata": {
  "kernelspec": {
   "display_name": "Python 3",
   "language": "python",
   "name": "python3"
  },
  "language_info": {
   "codemirror_mode": {
    "name": "ipython",
    "version": 3
   },
   "file_extension": ".py",
   "mimetype": "text/x-python",
   "name": "python",
   "nbconvert_exporter": "python",
   "pygments_lexer": "ipython3",
   "version": "3.12.11"
  }
 },
 "nbformat": 4,
 "nbformat_minor": 5
}
